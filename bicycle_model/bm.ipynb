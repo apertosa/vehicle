{
 "metadata": {
  "name": "bm"
 },
 "nbformat": 3,
 "nbformat_minor": 0,
 "worksheets": [
  {
   "cells": [
    {
     "cell_type": "heading",
     "level": 1,
     "metadata": {},
     "source": "Bicycle Model"
    },
    {
     "cell_type": "heading",
     "level": 2,
     "metadata": {},
     "source": "Introduction"
    },
    {
     "cell_type": "markdown",
     "metadata": {},
     "source": "This IPython notebook gives an overview of a vehicle cornering in steady-state conditions. We will code a simplified equation that describes the oversteer/understeer behavior at steady state. The main task is to examine the response of the model during steady-state cornering and to understand the influence of some vehicle and event parameters on the oversteer/understeer behavior. Even with such a simple model, one where the effects of the track width are neglected, it is possible to gain proper understanding into the steady-state vehicle behavior.\n\nIf we only want to evaluate the oversteer/understeer behavior of the vehicle model, we do not need to calculate the equations of motion. All we need to do is to use Newton second law of dynamics and write the equations of translational and angular equilibrium (equilibrium of the forces and moments). \n\nAccording to Newton second law, the acceleration $\\vec{a}$ of a system is proportional to the force $\\vec{F}$ applied to it:\n\n$$\\vec{F} = m\\vec{a}$$\n\nIn case of circular motion for a rigid body particle such as this model, we consider the centripetal acceleration:\n\n${a_r}=\\frac{v_x^2}{R}$\n\nTherefore:\n\n$F_c = m * R * \\Omega = m \\frac{v_x^2}{R}$\n\nThe centripetal force must be reacted by the lateral forces on the front and rear tire. This means that:\n\n${F_{yf} + F_{yr} = F_c}$\n\nIn addition to the equilibrium of forces, we must also consider the equilibrium of moments. In this case the lateral forces produce a moment that must result in zero angular acceleration at equilibrium:\n\n$F_{yf}*b - F_{yr}*c = 0$\n\nThe front and rear tyre forces can be assumed, in first approximation, equivalent to a simple spring that deforms the tire. The deformation of the tire is the lateral slip angle $\\alpha$ and the stiffness constant is equal to the tire cornering stiffnes:\n\nFront Tire Force:  $F_{yf} = C_{\\alpha}{_f} * \\alpha_f$\n\nRear Tire Force:  $F_{yr} = C_{\\alpha}{_r} * \\alpha_r$\n\nThe notebook will calculate the steer angle $\\delta$. It will also generate some plots using matplotlib.\n"
    },
    {
     "cell_type": "code",
     "collapsed": false,
     "input": "from IPython.core.display import Image\nImage(filename='model.png')",
     "language": "python",
     "metadata": {},
     "outputs": [],
     "prompt_number": "*"
    },
    {
     "cell_type": "heading",
     "level": 2,
     "metadata": {},
     "source": "Dependencies"
    },
    {
     "cell_type": "markdown",
     "metadata": {},
     "source": "For this example, the following dependencies are required: sympy\n\nWe'll figure out what components are required, but for now let's import the entire module. "
    },
    {
     "cell_type": "code",
     "collapsed": false,
     "input": "import sympy as sym",
     "language": "python",
     "metadata": {},
     "outputs": [],
     "prompt_number": 3
    },
    {
     "cell_type": "code",
     "collapsed": false,
     "input": "import matplotlib.pyplot as plt",
     "language": "python",
     "metadata": {},
     "outputs": [],
     "prompt_number": 4
    },
    {
     "cell_type": "code",
     "collapsed": false,
     "input": "from sympy.mpmath import *",
     "language": "python",
     "metadata": {},
     "outputs": [],
     "prompt_number": 6
    },
    {
     "cell_type": "code",
     "collapsed": false,
     "input": "sym.init_printing() ",
     "language": "python",
     "metadata": {},
     "outputs": [],
     "prompt_number": 20
    },
    {
     "cell_type": "code",
     "collapsed": false,
     "input": "#%matplotlib inline",
     "language": "python",
     "metadata": {},
     "outputs": [],
     "prompt_number": 56
    },
    {
     "cell_type": "heading",
     "level": 2,
     "metadata": {},
     "source": "Variable Definition"
    },
    {
     "cell_type": "heading",
     "level": 4,
     "metadata": {},
     "source": "Vehicle Longitudinal Velocity $V_x$"
    },
    {
     "cell_type": "code",
     "collapsed": false,
     "input": "v = sym.symbols('v') # Vx",
     "language": "python",
     "metadata": {},
     "outputs": [],
     "prompt_number": 57
    },
    {
     "cell_type": "heading",
     "level": 4,
     "metadata": {},
     "source": "Tire Lateral Forces $F_f F_r$"
    },
    {
     "cell_type": "code",
     "collapsed": false,
     "input": "Ff, Fr = sym.symbols('Ff Fr') # Tire lateral forces",
     "language": "python",
     "metadata": {},
     "outputs": [],
     "prompt_number": 58
    },
    {
     "cell_type": "heading",
     "level": 4,
     "metadata": {},
     "source": "Vehicle Parameters"
    },
    {
     "cell_type": "code",
     "collapsed": false,
     "input": "L, b, c, m = sym.symbols('L b c m') # Wheel base, front axle to CG, rear axle to CG, mass",
     "language": "python",
     "metadata": {},
     "outputs": [],
     "prompt_number": 59
    },
    {
     "cell_type": "heading",
     "level": 4,
     "metadata": {},
     "source": "Tire Properties"
    },
    {
     "cell_type": "code",
     "collapsed": false,
     "input": "Cf , Cr = sym.symbols('Cf Cr') # Tire cornering stiffnesses",
     "language": "python",
     "metadata": {},
     "outputs": [],
     "prompt_number": 60
    },
    {
     "cell_type": "code",
     "collapsed": false,
     "input": "R = sym.symbols('R') # Cornering radius",
     "language": "python",
     "metadata": {},
     "outputs": [],
     "prompt_number": 61
    },
    {
     "cell_type": "heading",
     "level": 4,
     "metadata": {},
     "source": "Steer Angle $\\delta$"
    },
    {
     "cell_type": "code",
     "collapsed": false,
     "input": "print 'Delta is the steer angle at the front wheel'\n\ndelta = (L/R)+((c/L/Cf) - (b/L/Cr)) * m * pow(v,2)/R\ndelta",
     "language": "python",
     "metadata": {},
     "outputs": [
      {
       "output_type": "stream",
       "stream": "stdout",
       "text": "Delta is the steer angle at the front wheel\n"
      },
      {
       "latex": "$$\\frac{L}{R} + \\frac{m v^{2}}{R} \\left(- \\frac{b}{Cr L} + \\frac{c}{Cf L}\\right)$$",
       "metadata": {},
       "output_type": "pyout",
       "png": "[encoded data removed]",
       "prompt_number": 62,
       "text": "       2 \u239b   b      c  \u239e\n    m\u22c5v \u22c5\u239c- \u2500\u2500\u2500\u2500 + \u2500\u2500\u2500\u2500\u239f\nL        \u239d  Cr\u22c5L   Cf\u22c5L\u23a0\n\u2500 + \u2500\u2500\u2500\u2500\u2500\u2500\u2500\u2500\u2500\u2500\u2500\u2500\u2500\u2500\u2500\u2500\u2500\u2500\u2500\u2500\nR            R          "
      }
     ],
     "prompt_number": 62
    },
    {
     "cell_type": "markdown",
     "metadata": {},
     "source": "Let's re-write the equation taking into account the front axle and rear axle weights."
    },
    {
     "cell_type": "code",
     "collapsed": false,
     "input": "g = sym.symbols('g') # Gravity",
     "language": "python",
     "metadata": {},
     "outputs": [],
     "prompt_number": 63
    },
    {
     "cell_type": "markdown",
     "metadata": {},
     "source": "Wf and Wr are the vertical weight at front and rear axle respectively. "
    },
    {
     "cell_type": "code",
     "collapsed": false,
     "input": "Wf , Wr = sym.symbols('Wf Wr')",
     "language": "python",
     "metadata": {},
     "outputs": [],
     "prompt_number": 64
    },
    {
     "cell_type": "markdown",
     "metadata": {},
     "source": "These forces can be expressed as a function of the vehicle mass and the front/rear distances as follows:"
    },
    {
     "cell_type": "code",
     "collapsed": false,
     "input": "Wf = m * g * c/L\nWf",
     "language": "python",
     "metadata": {},
     "outputs": [
      {
       "latex": "$$\\frac{c g}{L} m$$",
       "metadata": {},
       "output_type": "pyout",
       "png": "[encoded data removed]",
       "prompt_number": 65,
       "text": "c\u22c5g\u22c5m\n\u2500\u2500\u2500\u2500\u2500\n  L  "
      }
     ],
     "prompt_number": 65
    },
    {
     "cell_type": "code",
     "collapsed": false,
     "input": "Wr = m * g * b/L\nWr",
     "language": "python",
     "metadata": {},
     "outputs": [
      {
       "latex": "$$\\frac{b g}{L} m$$",
       "metadata": {},
       "output_type": "pyout",
       "png": "[encoded data removed]",
       "prompt_number": 66,
       "text": "b\u22c5g\u22c5m\n\u2500\u2500\u2500\u2500\u2500\n  L  "
      }
     ],
     "prompt_number": 66
    },
    {
     "cell_type": "heading",
     "level": 4,
     "metadata": {},
     "source": "Understeer Coefficient"
    },
    {
     "cell_type": "markdown",
     "metadata": {},
     "source": "$K_{us}$ is called Understeer Coefficient:"
    },
    {
     "cell_type": "code",
     "collapsed": false,
     "input": "Kus = sym.symbols('Kus')",
     "language": "python",
     "metadata": {},
     "outputs": [],
     "prompt_number": 67
    },
    {
     "cell_type": "code",
     "collapsed": false,
     "input": "Kus = Wf/Cf - Wr/Cr\nKus",
     "language": "python",
     "metadata": {},
     "outputs": [
      {
       "latex": "$$- \\frac{b g m}{Cr L} + \\frac{c g m}{Cf L}$$",
       "metadata": {},
       "output_type": "pyout",
       "png": "[encoded data removed]",
       "prompt_number": 68,
       "text": "  b\u22c5g\u22c5m   c\u22c5g\u22c5m\n- \u2500\u2500\u2500\u2500\u2500 + \u2500\u2500\u2500\u2500\u2500\n   Cr\u22c5L    Cf\u22c5L"
      }
     ],
     "prompt_number": 68
    },
    {
     "cell_type": "markdown",
     "metadata": {},
     "source": "In the equation for $\\delta$, we can express the term $\\frac{v_x^2}{R}$ as ${a_y}$[g] and we can introduce the factor $K_{us}$.\n\nTherefore:"
    },
    {
     "cell_type": "markdown",
     "metadata": {},
     "source": "$\\delta = \\frac{L}{R} + K_{us} * a_y$\n\nThis allows us to evaluate the understeer coefficient as a function of various vehicle quantities. \n\nIf the equation ($\\frac{W_f}{C_f}-\\frac{W_r}{C_r}$) is zero, then the vehicle is neutral steer.\n\nIf $\\frac{W_f}{C_f} > \\frac{W_r}{C_r}$ and therefore $K_{us}$ is greater than zero, then the vehicle is oversteering ($a_f > a_r$).\n\nIf $\\frac{W_f}{C_f} < \\frac{W_r}{C_r}$ and therefore $K_{us}$ is less than zero, then the vehicle is understeering ($a_f < a_r$).\n"
    },
    {
     "cell_type": "heading",
     "level": 2,
     "metadata": {},
     "source": "Example"
    },
    {
     "cell_type": "markdown",
     "metadata": {},
     "source": "Let's use the SAAB 9-3 data as obtained from the Bosch automotive Handbook. These quantities are expressed in MKS (S.I.)\n\nm = 1675\n\nL = 2.675\n\nb = 1.070\n\nc = 1.605\n\nCf = 9.3e4\n\nCr = 7.5e4\n\ng = 9.81\n\nR = 50 \n\nV = 11.11 m/s"
    },
    {
     "cell_type": "heading",
     "level": 4,
     "metadata": {},
     "source": "Steering Behavior"
    },
    {
     "cell_type": "code",
     "collapsed": false,
     "input": "delta",
     "language": "python",
     "metadata": {},
     "outputs": [
      {
       "latex": "$$\\frac{L}{R} + \\frac{m v^{2}}{R} \\left(- \\frac{b}{Cr L} + \\frac{c}{Cf L}\\right)$$",
       "metadata": {},
       "output_type": "pyout",
       "png": "[encoded data removed]",
       "prompt_number": 69,
       "text": "       2 \u239b   b      c  \u239e\n    m\u22c5v \u22c5\u239c- \u2500\u2500\u2500\u2500 + \u2500\u2500\u2500\u2500\u239f\nL        \u239d  Cr\u22c5L   Cf\u22c5L\u23a0\n\u2500 + \u2500\u2500\u2500\u2500\u2500\u2500\u2500\u2500\u2500\u2500\u2500\u2500\u2500\u2500\u2500\u2500\u2500\u2500\u2500\u2500\nR            R          "
      }
     ],
     "prompt_number": 69
    },
    {
     "cell_type": "markdown",
     "metadata": {},
     "source": "Let's consider the Radius as fixed as well as everything else and let's increase the vehicle longitudinal velocity. We will plot the steering angle as a function of vehicle speed. "
    },
    {
     "cell_type": "code",
     "collapsed": false,
     "input": "_vel = 11.11\n_m = 1675\n_L = 2.675\n_b = 1.070\n_c = 1.605\n_Cf = 9.3e4\n_Cr = 7.5e4\n_g = 9.81\n_R = 50\n\nx=[]\ny0=[]\ny1=[]\ny2=[]\ny3=[]\nrtod = 180/pi\nprint rtod\nwhile (_vel < 27.778):\n  _vel=_vel+0.5\n  x.append(_vel)\n  y0.append(rtod*delta.subs([(L, _L), (R, _R), (m, _m), (b, _b), (c, _c), (Cf, _Cf), (Cr, 5.5e4), (v, _vel)]))  \n  y1.append(rtod*delta.subs([(L, _L), (R, _R), (m, _m), (b, _b), (c, _c), (Cf, _Cf), (Cr, 6.5e4), (v, _vel)]))  \n  y2.append(rtod*delta.subs([(L, _L), (R, _R), (m, _m), (b, _b), (c, _c), (Cf, _Cf), (Cr, 7.5e4), (v, _vel)]))  \n  y3.append(rtod*delta.subs([(L, _L), (R, _R), (m, _m), (b, _b), (c, _c), (Cf, _Cf), (Cr, 8.5e4), (v, _vel)]))",
     "language": "python",
     "metadata": {},
     "outputs": [
      {
       "output_type": "stream",
       "stream": "stdout",
       "text": "57.2957795130823\n"
      }
     ],
     "prompt_number": 70
    },
    {
     "cell_type": "code",
     "collapsed": false,
     "input": "l0 = plt.plot(x, y0, '-') # oversteer\nl1 = plt.plot(x, y1, '-.') # neutral\nl2 = plt.plot(x, y2, 'o')\nl2 = plt.plot(x, y3, ':') # understeer\n\n#plt.legend(('Oversteer', 'Neutral', 'Neutral',\n#           'Understeer'))\n\nplt.ylabel('Steering Wheel Angle [deg]')\nplt.xlabel('Longitudinal Velocity [m/s]')",
     "language": "python",
     "metadata": {},
     "outputs": [
      {
       "metadata": {},
       "output_type": "pyout",
       "prompt_number": 71,
       "text": "<matplotlib.text.Text at 0xccc4e10>"
      },
      {
       "metadata": {},
       "output_type": "display_data",
       "png": "[encoded data removed]",
       "text": "<matplotlib.figure.Figure at 0xce06e10>"
      }
     ],
     "prompt_number": 71
    }
   ],
   "metadata": {}
  }
 ]
}